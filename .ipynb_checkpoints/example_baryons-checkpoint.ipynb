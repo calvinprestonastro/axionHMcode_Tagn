{
 "cells": [
  {
   "cell_type": "code",
   "execution_count": 1,
   "id": "32ca053b-ab4d-44d8-9fe6-229a85aa9e4e",
   "metadata": {},
   "outputs": [],
   "source": [
    "import numpy as np\n",
    "import time\n",
    "import matplotlib\n",
    "from matplotlib import pyplot as plt\n",
    "import os\n",
    "\n",
    "import sys\n",
    "sys.path.append('axionCAMB_and_lin_PS/')\n",
    "sys.path.append('cosmology/')\n",
    "sys.path.append('axion_functions/')\n",
    "sys.path.append('halo_model/')\n",
    "\n",
    "from axionCAMB_and_lin_PS import axionCAMB_wrapper \n",
    "from axionCAMB_and_lin_PS import load_cosmology  \n",
    "from axionCAMB_and_lin_PS import lin_power_spectrum \n",
    "from axionCAMB_and_lin_PS import PS_interpolate \n",
    "\n",
    "from halo_model import HMcode_params\n",
    "from halo_model import PS_nonlin_cold\n",
    "from halo_model import PS_nonlin_axion\n",
    "from halo_model import baryons\n",
    "\n",
    "from axion_functions import axion_params"
   ]
  },
  {
   "cell_type": "code",
   "execution_count": 2,
   "id": "9c9a39ac-2f09-48d8-be01-ec97bde87237",
   "metadata": {},
   "outputs": [],
   "source": [
    "### Baryons with no axions\n",
    "\n",
    "start = time.time()\n",
    "\n",
    "################################################################################\n",
    "# Set-up experiment parameters\n",
    "################################################################################\n",
    "\n",
    "input_file_path = '/Users/cp2091/PhD/KR_ULADM/axionHMcode_Tagn/input_files/input_file.txt'\n",
    "input_file_path_baryon = '/Users/cp2091/PhD/KR_ULADM/axionHMcode_Tagn/input_files/input_file_AXION_BARYON.txt'\n",
    "\n",
    "try:\n",
    "    f = open(input_file_path)\n",
    "except IOError:\n",
    "    print(\"Input file not accessible, pleas check the file path\")\n",
    "finally:\n",
    "    f.close()\n",
    "axionCAMB_exe_path = '/Users/cp2091/PhD/KR_ULADM/axionCAMB'\n",
    "if os.path.exists(axionCAMB_exe_path+'/./camb') == False:\n",
    "    print(\"executabel axionCAMB is not in the given directory, pleas check the path\")"
   ]
  },
  {
   "cell_type": "code",
   "execution_count": 3,
   "id": "df3f8de8-67c2-44d9-9f8b-b7e5cb52c94a",
   "metadata": {},
   "outputs": [
    {
     "name": "stdout",
     "output_type": "stream",
     "text": [
      "axionCAMB is running. Computes transfer function for a LCDM cosmology\n"
     ]
    },
    {
     "name": "stderr",
     "output_type": "stream",
     "text": [
      "Note: The following floating-point exceptions are signalling: IEEE_INVALID_FLAG IEEE_DIVIDE_BY_ZERO IEEE_UNDERFLOW_FLAG\n"
     ]
    },
    {
     "name": "stdout",
     "output_type": "stream",
     "text": [
      "axionCAMB is running. Computes transfer function for a same cosmology but now with baryons cosmology\n"
     ]
    },
    {
     "name": "stderr",
     "output_type": "stream",
     "text": [
      "Note: The following floating-point exceptions are signalling: IEEE_INVALID_FLAG IEEE_DIVIDE_BY_ZERO IEEE_UNDERFLOW_FLAG\n"
     ]
    }
   ],
   "source": [
    "################################################################################    \n",
    "# save cosmological parameter in a dictionary \n",
    "################################################################################\n",
    "\n",
    "cosmos_AXION_BARYON = load_cosmology.load_cosmology_input(input_file_path_baryon) \n",
    "cosmos_LCDM = load_cosmology.load_LCDM_cosmology_input(input_file_path)\n",
    "\n",
    "# Check here later for why LCDM not working\n",
    "\n",
    "################################################################################\n",
    "# Run axionCAMB on mixed and LCDM cosmology \n",
    "################################################################################\n",
    "\n",
    "print(\"axionCAMB is running. Computes transfer function for a LCDM cosmology\")\n",
    "axionCAMB_wrapper.axioncamb_params('paramfiles/paramfile_axionCAMB_LCDM.txt', \n",
    "                                   cosmos_LCDM, output_root='paramfiles/cosmos_LCDM', print_info = False)\n",
    "axionCAMB_wrapper.run_axioncamb('paramfiles/paramfile_axionCAMB_LCDM.txt', \n",
    "                                axionCAMB_exe_path,\n",
    "                                cosmos_LCDM, print_info = False)\n",
    "\n",
    "print(\"axionCAMB is running. Computes transfer function for a same cosmology but now with baryons cosmology\")\n",
    "axionCAMB_wrapper.axioncamb_params('paramfiles/paramfile_axionCAMB_AXION_BARYON.txt', \n",
    "                                   cosmos_AXION_BARYON, output_root='paramfiles/cosmos_AXION_BARYON', print_info = False)\n",
    "axionCAMB_wrapper.run_axioncamb('paramfiles/paramfile_axionCAMB_AXION_BARYON.txt', \n",
    "                                axionCAMB_exe_path,\n",
    "                                cosmos_AXION_BARYON, print_info = False)"
   ]
  },
  {
   "cell_type": "code",
   "execution_count": 4,
   "id": "37233be5-f3fb-4ce1-b7a3-be0d3f87ea3c",
   "metadata": {},
   "outputs": [
    {
     "name": "stdout",
     "output_type": "stream",
     "text": [
      "--------------------------------------------------\n",
      "Calculate axion quantities; cut-off mass, central density scale of axion density profile and axion halo mass.\n",
      "Create dictionary with parameters of HMCode2020\n",
      "computation time upto here: 23 s\n"
     ]
    }
   ],
   "source": [
    "################################################################################\n",
    "# Create linear power spectra from axionCAMB tranfer functions \n",
    "################################################################################\n",
    "# lin PS on given k range\n",
    "\n",
    "power_spec_dic_LCDM = lin_power_spectrum.func_power_spec_dic('paramfiles/cosmos_LCDM_transfer_out.dat', cosmos_LCDM)\n",
    "power_spec_dic_AXION_BARYON = lin_power_spectrum.func_power_spec_dic('paramfiles/cosmos_AXION_BARYON_transfer_out.dat', cosmos_AXION_BARYON)\n",
    "\n",
    "#interpolated lin PS for the correct computations of the variance\n",
    "\n",
    "power_spec_interp_dic_LCDM = lin_power_spectrum.func_power_spec_interp_dic(power_spec_dic_LCDM, cosmos_LCDM)\n",
    "power_spec_interp_dic_ax_AXION_BARYON = lin_power_spectrum.func_power_spec_interp_dic(power_spec_dic_AXION_BARYON, cosmos_AXION_BARYON)\n",
    "\n",
    "##################################\n",
    "##############################################\n",
    "# Compute parameter related to axions and HMCode2020\n",
    "################################################################################\n",
    "print('-' * 50)\n",
    "M_arr = np.logspace(cosmos_LCDM['M_min'], cosmos_LCDM['M_max'], 100)\n",
    "print(\"Calculate axion quantities; cut-off mass, central density scale of axion density profile and axion halo mass.\")\n",
    "\n",
    "axion_param_AXION_BARYON = axion_params.func_axion_param_dic(M_arr, cosmos_AXION_BARYON, power_spec_interp_dic_ax_AXION_BARYON, eta_given=False)\n",
    "\n",
    "print(\"Create dictionary with parameters of HMCode2020\")\n",
    "\n",
    "hmcode_params_LCDM = HMcode_params.HMCode_param_dic(cosmos_LCDM, power_spec_interp_dic_LCDM['k'], power_spec_interp_dic_LCDM['cold'])\n",
    "hmcode_params_AXION_BARYON = HMcode_params.HMCode_param_dic(cosmos_AXION_BARYON, power_spec_interp_dic_ax_AXION_BARYON['k'], power_spec_interp_dic_ax_AXION_BARYON['cold'])\n",
    "\n",
    "print(\"computation time upto here: {:.0f} s\".format(time.time() -start))"
   ]
  },
  {
   "cell_type": "code",
   "execution_count": 5,
   "id": "770de14e-cade-454e-a97d-17f18836654f",
   "metadata": {},
   "outputs": [
    {
     "data": {
      "text/plain": [
       "<module 'halo_model.baryons' from '/Users/cp2091/PhD/KR_ULADM/axionHMcode_Tagn/halo_model/baryons.py'>"
      ]
     },
     "execution_count": 5,
     "metadata": {},
     "output_type": "execute_result"
    }
   ],
   "source": [
    "import importlib\n",
    "importlib.reload(baryons)"
   ]
  },
  {
   "cell_type": "code",
   "execution_count": 6,
   "id": "0338076f-d68f-42c4-8971-3b33aa851d22",
   "metadata": {},
   "outputs": [
    {
     "name": "stdout",
     "output_type": "stream",
     "text": [
      "Caluclate non-linear power spectrum in LCDM cosmology with the halo model\n",
      "shape of dens_profile_kspace (100, 88)\n",
      "k_star 0.06848508537226952\n",
      "shape of dens_profile_kspace (1, 88)\n",
      "Caluclate non-linear power spectrum in LCDM cosmology with the halo model - now including baryons via Tagn parameter\n",
      "shape of dens_profile_kspace (100, 88)\n",
      "shape of dens_profile_kspace (1, 88)\n",
      "Save the non-linear power spectra in a file in the folowing order:\n",
      "k [h/Mpc], non-lin total matter PS in LCDM [(Mpc/h)^3] and non-lin total matter PS with baryons in LCDM [(Mpc/h)^3]\n"
     ]
    }
   ],
   "source": [
    "################################################################################\n",
    "# Caluclate non-linear power spectrum in LCDM cosmology both DM only and with baryons\n",
    "################################################################################\n",
    "\n",
    "print('Caluclate non-linear power spectrum in LCDM cosmology with the halo model')\n",
    "PS_LCDM_matter_nonlin = PS_nonlin_cold.func_non_lin_PS_matter(M_arr, power_spec_dic_LCDM['k'], power_spec_dic_LCDM['power_total'], power_spec_interp_dic_LCDM['k'], power_spec_interp_dic_LCDM['cold'], cosmos_LCDM, hmcode_params_LCDM, cosmos_LCDM['Omega_m_0'], cosmos_LCDM['Omega_db_0'],  alpha = False, eta_given = False, one_halo_damping = True, two_halo_damping = False, Tagn=None)\n",
    "\n",
    "print('Caluclate non-linear power spectrum in LCDM cosmology with the halo model - now including baryons via Tagn parameter')\n",
    "T_agn = np.power(10, 7.6)\n",
    "PS_LCDM_matter_nonlin_baryons = PS_nonlin_cold.func_non_lin_PS_matter(M_arr, power_spec_dic_LCDM['k'], power_spec_dic_LCDM['power_total'], power_spec_interp_dic_LCDM['k'], power_spec_interp_dic_LCDM['cold'], cosmos_LCDM, hmcode_params_LCDM, cosmos_LCDM['Omega_m_0'], cosmos_LCDM['Omega_db_0'],  alpha = False, eta_given = False, one_halo_damping = True, two_halo_damping = False, Tagn=T_agn)\n",
    "################################################################################\n",
    "# Save both power spectra in files\n",
    "################################################################################\n",
    "\n",
    "\n",
    "print(\"Save the non-linear power spectra in a file in the folowing order:\")\n",
    "print(\"k [h/Mpc], non-lin total matter PS in LCDM [(Mpc/h)^3] and non-lin total matter PS with baryons in LCDM [(Mpc/h)^3]\")\n",
    "data_ax = np.column_stack([power_spec_dic_LCDM['k'], PS_LCDM_matter_nonlin[0], PS_LCDM_matter_nonlin_baryons[0]] )\n",
    "\n",
    "datafile_path = \"output/nonlin_PS_CDMO_CDMBARYONS.txt\" #change path if you want\n",
    "np.savetxt(datafile_path , data_ax)"
   ]
  },
  {
   "cell_type": "code",
   "execution_count": 7,
   "id": "d2348474-52af-4a78-9217-f69207ba30cd",
   "metadata": {
    "scrolled": true
   },
   "outputs": [
    {
     "data": {
      "image/png": "[encoded data removed]",
      "text/plain": [
       "<Figure size 640x480 with 1 Axes>"
      ]
     },
     "metadata": {},
     "output_type": "display_data"
    }
   ],
   "source": [
    "plt.plot(power_spec_dic_LCDM['k'], PS_LCDM_matter_nonlin_baryons[0]/PS_LCDM_matter_nonlin[0], label='Non-linear modified window function/normal CDM window function', color='r')\n",
    "#plt.plot(power_spec_dic_LCDM['k'], PS_LCDM_matter_nonlin[0], label='Non-linear CDMO', color='blue')\n",
    "\n",
    "#print( PS_LCDM_matter_nonlin_baryons[0]/PS_LCDM_matter_nonlin[0])\n",
    "plt.xscale('log')\n",
    "#plt.yscale('log')\n",
    "plt.legend(frameon=False)\n",
    "plt.ylim([0.5,1.5])\n",
    "plt.xlim([10**(-3),100])\n",
    "plt.xlabel(r'$k~[h/\\mathrm{Mpc}]$')\n",
    "plt.savefig('ratio_trial.pdf')\n",
    "plt.show()"
   ]
  },
  {
   "cell_type": "code",
   "execution_count": 8,
   "id": "c96e7df9-076b-4ed0-8a5c-3b2825829b1e",
   "metadata": {},
   "outputs": [
    {
     "data": {
      "text/plain": [
       "(0.001, 100)"
      ]
     },
     "execution_count": 8,
     "metadata": {},
     "output_type": "execute_result"
    },
    {
     "data": {
      "image/png": "[encoded data removed]",
      "text/plain": [
       "<Figure size 640x480 with 1 Axes>"
      ]
     },
     "metadata": {},
     "output_type": "display_data"
    }
   ],
   "source": [
    "plt.plot(power_spec_dic_LCDM['k'], PS_LCDM_matter_nonlin_baryons[0], label='non-linear ratio baryons', color='r')\n",
    "plt.xscale('log')\n",
    "plt.yscale('log')\n",
    "\n",
    "plt.xlim([10**(-3),100])\n",
    "\n"
   ]
  },
  {
   "cell_type": "code",
   "execution_count": null,
   "id": "0031e2e6-11b2-40df-95b1-f1c0a9dafb59",
   "metadata": {},
   "outputs": [],
   "source": []
  }
 ],
 "metadata": {
  "kernelspec": {
   "display_name": "Python 3 (ipykernel)",
   "language": "python",
   "name": "python3"
  },
  "language_info": {
   "codemirror_mode": {
    "name": "ipython",
    "version": 3
   },
   "file_extension": ".py",
   "mimetype": "text/x-python",
   "name": "python",
   "nbconvert_exporter": "python",
   "pygments_lexer": "ipython3",
   "version": "3.11.5"
  }
 },
 "nbformat": 4,
 "nbformat_minor": 5
}
