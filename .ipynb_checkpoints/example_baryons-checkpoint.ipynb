{
 "cells": [
  {
   "cell_type": "code",
   "execution_count": 1,
   "id": "32ca053b-ab4d-44d8-9fe6-229a85aa9e4e",
   "metadata": {},
   "outputs": [
    {
     "name": "stdout",
     "output_type": "stream",
     "text": [
      "checking kernel\n",
      "checking kernel\n"
     ]
    }
   ],
   "source": [
    "import numpy as np\n",
    "import time\n",
    "import matplotlib\n",
    "from matplotlib import pyplot as plt\n",
    "import os\n",
    "\n",
    "import sys\n",
    "sys.path.append('axionCAMB_and_lin_PS/')\n",
    "sys.path.append('cosmology/')\n",
    "sys.path.append('axion_functions/')\n",
    "sys.path.append('halo_model/')\n",
    "\n",
    "from axionCAMB_and_lin_PS import axionCAMB_wrapper \n",
    "from axionCAMB_and_lin_PS import load_cosmology  \n",
    "from axionCAMB_and_lin_PS import lin_power_spectrum \n",
    "from axionCAMB_and_lin_PS import PS_interpolate \n",
    "\n",
    "from halo_model import HMcode_params\n",
    "from halo_model import PS_nonlin_cold\n",
    "from halo_model import PS_nonlin_axion\n",
    "from halo_model import baryons\n",
    "\n",
    "from axion_functions import axion_params"
   ]
  },
  {
   "cell_type": "code",
   "execution_count": 2,
   "id": "9c9a39ac-2f09-48d8-be01-ec97bde87237",
   "metadata": {},
   "outputs": [],
   "source": [
    "### Baryons with no axions\n",
    "\n",
    "start = time.time()\n",
    "\n",
    "################################################################################\n",
    "# Set-up experiment parameters\n",
    "################################################################################\n",
    "\n",
    "input_file_path = '/Users/cp2091/PhD/KR_ULADM/axionHMcode_Tagn/input_files/input_file.txt'\n",
    "input_file_path_baryon = '/Users/cp2091/PhD/KR_ULADM/axionHMcode_Tagn/input_files/input_file_AXION_BARYON.txt'\n",
    "\n",
    "try:\n",
    "    f = open(input_file_path)\n",
    "except IOError:\n",
    "    print(\"Input file not accessible, pleas check the file path\")\n",
    "finally:\n",
    "    f.close()\n",
    "axionCAMB_exe_path = '/Users/cp2091/PhD/KR_ULADM/axionCAMB'\n",
    "if os.path.exists(axionCAMB_exe_path+'/./camb') == False:\n",
    "    print(\"executabel axionCAMB is not in the given directory, pleas check the path\")"
   ]
  },
  {
   "cell_type": "code",
   "execution_count": 3,
   "id": "df3f8de8-67c2-44d9-9f8b-b7e5cb52c94a",
   "metadata": {},
   "outputs": [
    {
     "name": "stdout",
     "output_type": "stream",
     "text": [
      "axionCAMB is running. Computes transfer function for a LCDM cosmology\n"
     ]
    },
    {
     "name": "stderr",
     "output_type": "stream",
     "text": [
      "Note: The following floating-point exceptions are signalling: IEEE_INVALID_FLAG IEEE_DIVIDE_BY_ZERO IEEE_UNDERFLOW_FLAG\n"
     ]
    },
    {
     "name": "stdout",
     "output_type": "stream",
     "text": [
      "axionCAMB is running. Computes transfer function for a same cosmology but now with baryons cosmology\n"
     ]
    },
    {
     "name": "stderr",
     "output_type": "stream",
     "text": [
      "Note: The following floating-point exceptions are signalling: IEEE_INVALID_FLAG IEEE_DIVIDE_BY_ZERO IEEE_UNDERFLOW_FLAG\n"
     ]
    }
   ],
   "source": [
    "################################################################################    \n",
    "# save cosmological parameter in a dictionary \n",
    "################################################################################\n",
    "\n",
    "cosmos_AXION_BARYON = load_cosmology.load_cosmology_input(input_file_path_baryon) \n",
    "cosmos_LCDM = load_cosmology.load_LCDM_cosmology_input(input_file_path)\n",
    "\n",
    "# Check here later for why LCDM not working\n",
    "\n",
    "################################################################################\n",
    "# Run axionCAMB on mixed and LCDM cosmology \n",
    "################################################################################\n",
    "\n",
    "print(\"axionCAMB is running. Computes transfer function for a LCDM cosmology\")\n",
    "axionCAMB_wrapper.axioncamb_params('paramfiles/paramfile_axionCAMB_LCDM.txt', \n",
    "                                   cosmos_LCDM, output_root='paramfiles/cosmos_LCDM', print_info = False)\n",
    "axionCAMB_wrapper.run_axioncamb('paramfiles/paramfile_axionCAMB_LCDM.txt', \n",
    "                                axionCAMB_exe_path,\n",
    "                                cosmos_LCDM, print_info = False)\n",
    "\n",
    "print(\"axionCAMB is running. Computes transfer function for a same cosmology but now with baryons cosmology\")\n",
    "axionCAMB_wrapper.axioncamb_params('paramfiles/paramfile_axionCAMB_AXION_BARYON.txt', \n",
    "                                   cosmos_AXION_BARYON, output_root='paramfiles/cosmos_AXION_BARYON', print_info = False)\n",
    "axionCAMB_wrapper.run_axioncamb('paramfiles/paramfile_axionCAMB_AXION_BARYON.txt', \n",
    "                                axionCAMB_exe_path,\n",
    "                                cosmos_AXION_BARYON, print_info = False)"
   ]
  },
  {
   "cell_type": "code",
   "execution_count": 4,
   "id": "37233be5-f3fb-4ce1-b7a3-be0d3f87ea3c",
   "metadata": {},
   "outputs": [
    {
     "name": "stdout",
     "output_type": "stream",
     "text": [
      "--------------------------------------------------\n",
      "Calculate axion quantities; cut-off mass, central density scale of axion density profile and axion halo mass.\n",
      "Create dictionary with parameters of HMCode2020\n",
      "computation time upto here: 22 s\n"
     ]
    }
   ],
   "source": [
    "################################################################################\n",
    "# Create linear power spectra from axionCAMB tranfer functions \n",
    "################################################################################\n",
    "# lin PS on given k range\n",
    "\n",
    "power_spec_dic_LCDM = lin_power_spectrum.func_power_spec_dic('paramfiles/cosmos_LCDM_transfer_out.dat', cosmos_LCDM)\n",
    "power_spec_dic_AXION_BARYON = lin_power_spectrum.func_power_spec_dic('paramfiles/cosmos_AXION_BARYON_transfer_out.dat', cosmos_AXION_BARYON)\n",
    "\n",
    "#interpolated lin PS for the correct computations of the variance\n",
    "\n",
    "power_spec_interp_dic_LCDM = lin_power_spectrum.func_power_spec_interp_dic(power_spec_dic_LCDM, cosmos_LCDM)\n",
    "power_spec_interp_dic_ax_AXION_BARYON = lin_power_spectrum.func_power_spec_interp_dic(power_spec_dic_AXION_BARYON, cosmos_AXION_BARYON)\n",
    "\n",
    "##################################\n",
    "##############################################\n",
    "# Compute parameter related to axions and HMCode2020\n",
    "################################################################################\n",
    "print('-' * 50)\n",
    "M_arr = np.logspace(cosmos_LCDM['M_min'], cosmos_LCDM['M_max'], 100)\n",
    "print(\"Calculate axion quantities; cut-off mass, central density scale of axion density profile and axion halo mass.\")\n",
    "\n",
    "axion_param_AXION_BARYON = axion_params.func_axion_param_dic(M_arr, cosmos_AXION_BARYON, power_spec_interp_dic_ax_AXION_BARYON, eta_given=False)\n",
    "\n",
    "print(\"Create dictionary with parameters of HMCode2020\")\n",
    "\n",
    "hmcode_params_LCDM = HMcode_params.HMCode_param_dic(cosmos_LCDM, power_spec_interp_dic_LCDM['k'], power_spec_interp_dic_LCDM['cold'])\n",
    "hmcode_params_AXION_BARYON = HMcode_params.HMCode_param_dic(cosmos_AXION_BARYON, power_spec_interp_dic_ax_AXION_BARYON['k'], power_spec_interp_dic_ax_AXION_BARYON['cold'])\n",
    "\n",
    "print(\"computation time upto here: {:.0f} s\".format(time.time() -start))"
   ]
  },
  {
   "cell_type": "code",
   "execution_count": 5,
   "id": "770de14e-cade-454e-a97d-17f18836654f",
   "metadata": {},
   "outputs": [
    {
     "name": "stdout",
     "output_type": "stream",
     "text": [
      "checking kernel\n"
     ]
    },
    {
     "data": {
      "text/plain": [
       "<module 'halo_model.baryons' from '/Users/cp2091/PhD/KR_ULADM/axionHMcode_Tagn/halo_model/baryons.py'>"
      ]
     },
     "execution_count": 5,
     "metadata": {},
     "output_type": "execute_result"
    }
   ],
   "source": [
    "import importlib\n",
    "importlib.reload(baryons)"
   ]
  },
  {
   "cell_type": "code",
   "execution_count": 10,
   "id": "0338076f-d68f-42c4-8971-3b33aa851d22",
   "metadata": {},
   "outputs": [
    {
     "name": "stdout",
     "output_type": "stream",
     "text": [
      "Caluclate non-linear power spectrum in LCDM cosmology with the halo model\n",
      "shape of dens_profile_kspace (100, 88)\n",
      "dens_profile_arr [[1.00000000e+00 1.00000000e+00 1.00000000e+00 ... 7.84591317e-01\n",
      "  6.55317709e-01 5.21713027e-01]\n",
      " [1.00000000e+00 1.00000000e+00 1.00000000e+00 ... 7.53604031e-01\n",
      "  6.18037741e-01 4.91880867e-01]\n",
      " [1.00000000e+00 1.00000000e+00 1.00000000e+00 ... 7.20027982e-01\n",
      "  5.81073944e-01 4.65236389e-01]\n",
      " ...\n",
      " [9.99999916e-01 9.99999773e-01 9.99999383e-01 ... 1.40705286e-07\n",
      "  7.38411289e-08 3.82085398e-08]\n",
      " [9.99999901e-01 9.99999731e-01 9.99999268e-01 ... 1.26477317e-07\n",
      "  6.46813705e-08 3.12259406e-08]\n",
      " [9.99999883e-01 9.99999681e-01 9.99999132e-01 ... 9.98642036e-08\n",
      "  5.13247633e-08 2.77968113e-08]]\n",
      "dens_profile_arr shape (100, 88)\n",
      "shape of dens_profile_kspace (1, 88)\n",
      "Caluclate non-linear power spectrum in LCDM cosmology with the halo model - now including baryons via Tagn parameter\n",
      "shape of dens_profile_kspace (100, 88)\n",
      "feedback params {'B0': 3.5392, 'Bz': -0.059680000000000004, 'Mb0': 32210687912834.28, 'Mbz': -0.14700000000000002, 'f0': 0.0207, 'fz': 0.40452}\n",
      "feedback_params['f0'] 0.0207\n",
      "feedback_params['Mb0'] 32210687912834.28\n",
      "M [1.00000000e+07 1.29154967e+07 1.66810054e+07 2.15443469e+07\n",
      " 2.78255940e+07 3.59381366e+07 4.64158883e+07 5.99484250e+07\n",
      " 7.74263683e+07 1.00000000e+08 1.29154967e+08 1.66810054e+08\n",
      " 2.15443469e+08 2.78255940e+08 3.59381366e+08 4.64158883e+08\n",
      " 5.99484250e+08 7.74263683e+08 1.00000000e+09 1.29154967e+09\n",
      " 1.66810054e+09 2.15443469e+09 2.78255940e+09 3.59381366e+09\n",
      " 4.64158883e+09 5.99484250e+09 7.74263683e+09 1.00000000e+10\n",
      " 1.29154967e+10 1.66810054e+10 2.15443469e+10 2.78255940e+10\n",
      " 3.59381366e+10 4.64158883e+10 5.99484250e+10 7.74263683e+10\n",
      " 1.00000000e+11 1.29154967e+11 1.66810054e+11 2.15443469e+11\n",
      " 2.78255940e+11 3.59381366e+11 4.64158883e+11 5.99484250e+11\n",
      " 7.74263683e+11 1.00000000e+12 1.29154967e+12 1.66810054e+12\n",
      " 2.15443469e+12 2.78255940e+12 3.59381366e+12 4.64158883e+12\n",
      " 5.99484250e+12 7.74263683e+12 1.00000000e+13 1.29154967e+13\n",
      " 1.66810054e+13 2.15443469e+13 2.78255940e+13 3.59381366e+13\n",
      " 4.64158883e+13 5.99484250e+13 7.74263683e+13 1.00000000e+14\n",
      " 1.29154967e+14 1.66810054e+14 2.15443469e+14 2.78255940e+14\n",
      " 3.59381366e+14 4.64158883e+14 5.99484250e+14 7.74263683e+14\n",
      " 1.00000000e+15 1.29154967e+15 1.66810054e+15 2.15443469e+15\n",
      " 2.78255940e+15 3.59381366e+15 4.64158883e+15 5.99484250e+15\n",
      " 7.74263683e+15 1.00000000e+16 1.29154967e+16 1.66810054e+16\n",
      " 2.15443469e+16 2.78255940e+16 3.59381366e+16 4.64158883e+16\n",
      " 5.99484250e+16 7.74263683e+16 1.00000000e+17 1.29154967e+17\n",
      " 1.66810054e+17 2.15443469e+17 2.78255940e+17 3.59381366e+17\n",
      " 4.64158883e+17 5.99484250e+17 7.74263683e+17 1.00000000e+18]\n",
      "ratio M/Mb [3.10455959e-07 4.00969290e-07 5.17871752e-07 6.68857087e-07\n",
      " 8.63862147e-07 1.11572087e-06 1.44100891e-06 1.86113458e-06\n",
      " 2.40374774e-06 3.10455959e-06 4.00969290e-06 5.17871752e-06\n",
      " 6.68857087e-06 8.63862147e-06 1.11572087e-05 1.44100891e-05\n",
      " 1.86113458e-05 2.40374774e-05 3.10455959e-05 4.00969290e-05\n",
      " 5.17871752e-05 6.68857087e-05 8.63862147e-05 1.11572087e-04\n",
      " 1.44100891e-04 1.86113458e-04 2.40374774e-04 3.10455959e-04\n",
      " 4.00969290e-04 5.17871752e-04 6.68857087e-04 8.63862147e-04\n",
      " 1.11572087e-03 1.44100891e-03 1.86113458e-03 2.40374774e-03\n",
      " 3.10455959e-03 4.00969290e-03 5.17871752e-03 6.68857087e-03\n",
      " 8.63862147e-03 1.11572087e-02 1.44100891e-02 1.86113458e-02\n",
      " 2.40374774e-02 3.10455959e-02 4.00969290e-02 5.17871752e-02\n",
      " 6.68857087e-02 8.63862147e-02 1.11572087e-01 1.44100891e-01\n",
      " 1.86113458e-01 2.40374774e-01 3.10455959e-01 4.00969290e-01\n",
      " 5.17871752e-01 6.68857087e-01 8.63862147e-01 1.11572087e+00\n",
      " 1.44100891e+00 1.86113458e+00 2.40374774e+00 3.10455959e+00\n",
      " 4.00969290e+00 5.17871752e+00 6.68857087e+00 8.63862147e+00\n",
      " 1.11572087e+01 1.44100891e+01 1.86113458e+01 2.40374774e+01\n",
      " 3.10455959e+01 4.00969290e+01 5.17871752e+01 6.68857087e+01\n",
      " 8.63862147e+01 1.11572087e+02 1.44100891e+02 1.86113458e+02\n",
      " 2.40374774e+02 3.10455959e+02 4.00969290e+02 5.17871752e+02\n",
      " 6.68857087e+02 8.63862147e+02 1.11572087e+03 1.44100891e+03\n",
      " 1.86113458e+03 2.40374774e+03 3.10455959e+03 4.00969290e+03\n",
      " 5.17871752e+03 6.68857087e+03 8.63862147e+03 1.11572087e+04\n",
      " 1.44100891e+04 1.86113458e+04 2.40374774e+04 3.10455959e+04]\n",
      "Wk now with baryons [[8.42874201e-01 8.42874201e-01 8.42874201e-01 ... 6.61311779e-01\n",
      "  5.52350391e-01 4.39738451e-01]\n",
      " [1.00000000e+00 1.00000000e+00 1.00000000e+00 ... 7.53604031e-01\n",
      "  6.18037741e-01 4.91880867e-01]\n",
      " [1.00000000e+00 1.00000000e+00 1.00000000e+00 ... 7.20027982e-01\n",
      "  5.81073944e-01 4.65236389e-01]\n",
      " ...\n",
      " [9.99999916e-01 9.99999773e-01 9.99999383e-01 ... 1.40705286e-07\n",
      "  7.38411289e-08 3.82085398e-08]\n",
      " [9.99999901e-01 9.99999731e-01 9.99999268e-01 ... 1.26477317e-07\n",
      "  6.46813705e-08 3.12259406e-08]\n",
      " [9.99999883e-01 9.99999681e-01 9.99999132e-01 ... 9.98642036e-08\n",
      "  5.13247633e-08 2.77968113e-08]]\n",
      "shape of Wk (100, 88)\n",
      "dens_profile_arr with baryons [[8.42874201e-01 8.42874201e-01 8.42874201e-01 ... 6.61311779e-01\n",
      "  5.52350391e-01 4.39738451e-01]\n",
      " [1.00000000e+00 1.00000000e+00 1.00000000e+00 ... 7.53604031e-01\n",
      "  6.18037741e-01 4.91880867e-01]\n",
      " [1.00000000e+00 1.00000000e+00 1.00000000e+00 ... 7.20027982e-01\n",
      "  5.81073944e-01 4.65236389e-01]\n",
      " ...\n",
      " [9.99999916e-01 9.99999773e-01 9.99999383e-01 ... 1.40705286e-07\n",
      "  7.38411289e-08 3.82085398e-08]\n",
      " [9.99999901e-01 9.99999731e-01 9.99999268e-01 ... 1.26477317e-07\n",
      "  6.46813705e-08 3.12259406e-08]\n",
      " [9.99999883e-01 9.99999681e-01 9.99999132e-01 ... 9.98642036e-08\n",
      "  5.13247633e-08 2.77968113e-08]]\n",
      "dens_profile_arr with baryons shape (100, 88)\n",
      "shape of dens_profile_kspace (1, 88)\n",
      "feedback params {'B0': 3.5392, 'Bz': -0.059680000000000004, 'Mb0': 32210687912834.28, 'Mbz': -0.14700000000000002, 'f0': 0.0207, 'fz': 0.40452}\n",
      "feedback_params['f0'] 0.0207\n",
      "feedback_params['Mb0'] 32210687912834.28\n",
      "M 10000000.0\n",
      "ratio M/Mb 3.104559588128362e-07\n",
      "Wk now with baryons [[0.8428742  0.8428742  0.8428742  0.8428742  0.8428742  0.8428742\n",
      "  0.8428742  0.8428742  0.8428742  0.8428742  0.8428742  0.8428742\n",
      "  0.8428742  0.8428742  0.8428742  0.8428742  0.8428742  0.8428742\n",
      "  0.8428742  0.8428742  0.8428742  0.8428742  0.8428742  0.8428742\n",
      "  0.8428742  0.8428742  0.8428742  0.8428742  0.8428742  0.8428742\n",
      "  0.8428742  0.8428742  0.8428742  0.8428742  0.8428742  0.8428742\n",
      "  0.8428742  0.84287419 0.84287419 0.84287419 0.84287419 0.84287419\n",
      "  0.84287419 0.84287419 0.84287419 0.84287419 0.84287419 0.84287418\n",
      "  0.84287418 0.84287418 0.84287418 0.84287418 0.84287417 0.84287417\n",
      "  0.84287417 0.84287416 0.84287416 0.84287415 0.84287415 0.84287414\n",
      "  0.84287413 0.84287412 0.84287412 0.8428741  0.84287401 0.84287383\n",
      "  0.84287349 0.84287281 0.84287149 0.84286892 0.84286391 0.84285416\n",
      "  0.84283517 0.84279818 0.84272614 0.84258587 0.84231276 0.84178124\n",
      "  0.84074763 0.83874062 0.83485492 0.82737447 0.8131328  0.78659953\n",
      "  0.73921353 0.66131178 0.55235039 0.43973845]]\n",
      "shape of Wk (1, 88)\n",
      "Save the non-linear power spectra in a file in the folowing order:\n",
      "k [h/Mpc], non-lin total matter PS in LCDM [(Mpc/h)^3] and non-lin total matter PS with baryons in LCDM [(Mpc/h)^3]\n"
     ]
    }
   ],
   "source": [
    "################################################################################\n",
    "# Caluclate non-linear power spectrum in LCDM cosmology both DM only and with baryons\n",
    "################################################################################\n",
    "\n",
    "print('Caluclate non-linear power spectrum in LCDM cosmology with the halo model')\n",
    "PS_LCDM_matter_nonlin = PS_nonlin_cold.func_non_lin_PS_matter(M_arr, power_spec_dic_LCDM['k'], power_spec_dic_LCDM['power_total'], power_spec_interp_dic_LCDM['k'], power_spec_interp_dic_LCDM['cold'], cosmos_LCDM, hmcode_params_LCDM, cosmos_LCDM['Omega_m_0'], cosmos_LCDM['Omega_db_0'],  alpha = False, eta_given = False, one_halo_damping = True, two_halo_damping = False, Tagn=None)\n",
    "\n",
    "print('Caluclate non-linear power spectrum in LCDM cosmology with the halo model - now including baryons via Tagn parameter')\n",
    "T_agn = np.power(10, 7.6)\n",
    "PS_LCDM_matter_nonlin_baryons = PS_nonlin_cold.func_non_lin_PS_matter(M_arr, power_spec_dic_LCDM['k'], power_spec_dic_LCDM['power_total'], power_spec_interp_dic_LCDM['k'], power_spec_interp_dic_LCDM['cold'], cosmos_LCDM, hmcode_params_LCDM, cosmos_LCDM['Omega_m_0'], cosmos_LCDM['Omega_db_0'],  alpha = False, eta_given = False, one_halo_damping = True, two_halo_damping = False, Tagn=T_agn)\n",
    "################################################################################\n",
    "# Save both power spectra in files\n",
    "################################################################################\n",
    "\n",
    "\n",
    "print(\"Save the non-linear power spectra in a file in the folowing order:\")\n",
    "print(\"k [h/Mpc], non-lin total matter PS in LCDM [(Mpc/h)^3] and non-lin total matter PS with baryons in LCDM [(Mpc/h)^3]\")\n",
    "data_ax = np.column_stack([power_spec_dic_LCDM['k'], PS_LCDM_matter_nonlin[0], PS_LCDM_matter_nonlin_baryons[0]] )\n",
    "\n",
    "datafile_path = \"output/nonlin_PS_CDMO_CDMBARYONS.txt\" #change path if you want\n",
    "np.savetxt(datafile_path , data_ax)"
   ]
  },
  {
   "cell_type": "code",
   "execution_count": 11,
   "id": "d2348474-52af-4a78-9217-f69207ba30cd",
   "metadata": {
    "scrolled": true
   },
   "outputs": [
    {
     "data": {
      "image/png": "[encoded data removed]",
      "text/plain": [
       "<Figure size 640x480 with 1 Axes>"
      ]
     },
     "metadata": {},
     "output_type": "display_data"
    }
   ],
   "source": [
    "plt.plot(power_spec_dic_LCDM['k'], PS_LCDM_matter_nonlin_baryons[0]/PS_LCDM_matter_nonlin[0], label='Non-linear baryons/CDMO', color='r')\n",
    "#plt.plot(power_spec_dic_LCDM['k'], PS_LCDM_matter_nonlin[0], label='Non-linear CDMO', color='blue')\n",
    "\n",
    "#print( PS_LCDM_matter_nonlin_baryons[0]/PS_LCDM_matter_nonlin[0])\n",
    "plt.xscale('log')\n",
    "#plt.yscale('log')\n",
    "plt.legend(frameon=False)\n",
    "plt.ylim([0.5,1.5])\n",
    "plt.xlim([10**(-3),100])\n",
    "plt.xlabel(r'$k~[h/\\mathrm{Mpc}]$')\n",
    "plt.savefig('ratio_trial.pdf')\n",
    "plt.show()"
   ]
  },
  {
   "cell_type": "code",
   "execution_count": 8,
   "id": "c96e7df9-076b-4ed0-8a5c-3b2825829b1e",
   "metadata": {},
   "outputs": [
    {
     "data": {
      "text/plain": [
       "(0.001, 100)"
      ]
     },
     "execution_count": 8,
     "metadata": {},
     "output_type": "execute_result"
    },
    {
     "data": {
      "image/png": "[encoded data removed]",
      "text/plain": [
       "<Figure size 640x480 with 1 Axes>"
      ]
     },
     "metadata": {},
     "output_type": "display_data"
    }
   ],
   "source": [
    "plt.plot(power_spec_dic_LCDM['k'], PS_LCDM_matter_nonlin_baryons[0], label='non-linear ratio baryons', color='r')\n",
    "plt.xscale('log')\n",
    "plt.yscale('log')\n",
    "\n",
    "plt.xlim([10**(-3),100])\n",
    "\n"
   ]
  },
  {
   "cell_type": "code",
   "execution_count": 9,
   "id": "b95bc1a5-b4c2-4ebc-bdfe-d061fc9814d4",
   "metadata": {},
   "outputs": [
    {
     "ename": "NameError",
     "evalue": "name 'hmcode' is not defined",
     "output_type": "error",
     "traceback": [
      "\u001b[0;31m---------------------------------------------------------------------------\u001b[0m",
      "\u001b[0;31mNameError\u001b[0m                                 Traceback (most recent call last)",
      "Cell \u001b[0;32mIn[9], line 8\u001b[0m\n\u001b[1;32m      6\u001b[0m Rk_feedback \u001b[38;5;241m=\u001b[39m []\n\u001b[1;32m      7\u001b[0m \u001b[38;5;28;01mfor\u001b[39;00m T_AGN \u001b[38;5;129;01min\u001b[39;00m T_AGNs:\n\u001b[0;32m----> 8\u001b[0m     Pk_feedback \u001b[38;5;241m=\u001b[39m hmcode\u001b[38;5;241m.\u001b[39mpower(k, zs, results, T_AGN\u001b[38;5;241m=\u001b[39mT_AGN, verbose\u001b[38;5;241m=\u001b[39m\u001b[38;5;28;01mFalse\u001b[39;00m)\n\u001b[1;32m      9\u001b[0m     Pk_gravity \u001b[38;5;241m=\u001b[39m hmcode\u001b[38;5;241m.\u001b[39mpower(k, zs, results, T_AGN\u001b[38;5;241m=\u001b[39m\u001b[38;5;28;01mNone\u001b[39;00m)\n\u001b[1;32m     10\u001b[0m     Rk \u001b[38;5;241m=\u001b[39m Pk_feedback\u001b[38;5;241m/\u001b[39mPk_gravity\n",
      "\u001b[0;31mNameError\u001b[0m: name 'hmcode' is not defined"
     ]
    }
   ],
   "source": [
    "### TRYING T_AGN \n",
    "\n",
    "# AGN-feedback temperature [K]\n",
    "T_AGNs = np.power(10, np.array([7.6, 7.8, 8.0, 8.3]))\n",
    "\n",
    "Rk_feedback = []\n",
    "for T_AGN in T_AGNs:\n",
    "    Pk_feedback = hmcode.power(k, zs, results, T_AGN=T_AGN, verbose=False)\n",
    "    Pk_gravity = hmcode.power(k, zs, results, T_AGN=None)\n",
    "    Rk = Pk_feedback/Pk_gravity\n",
    "    Rk_feedback.append(Rk)"
   ]
  },
  {
   "cell_type": "code",
   "execution_count": null,
   "id": "0031e2e6-11b2-40df-95b1-f1c0a9dafb59",
   "metadata": {},
   "outputs": [],
   "source": []
  }
 ],
 "metadata": {
  "kernelspec": {
   "display_name": "Python 3 (ipykernel)",
   "language": "python",
   "name": "python3"
  },
  "language_info": {
   "codemirror_mode": {
    "name": "ipython",
    "version": 3
   },
   "file_extension": ".py",
   "mimetype": "text/x-python",
   "name": "python",
   "nbconvert_exporter": "python",
   "pygments_lexer": "ipython3",
   "version": "3.11.5"
  }
 },
 "nbformat": 4,
 "nbformat_minor": 5
}
